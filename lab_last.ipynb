{
  "nbformat": 4,
  "nbformat_minor": 0,
  "metadata": {
    "kernelspec": {
      "display_name": "local-venv",
      "language": "python",
      "name": "local-venv"
    },
    "language_info": {
      "codemirror_mode": {
        "name": "ipython",
        "version": 3
      },
      "file_extension": ".py",
      "mimetype": "text/x-python",
      "name": "python",
      "nbconvert_exporter": "python",
      "pygments_lexer": "ipython3",
      "version": "3.8.5"
    },
    "colab": {
      "name": "lab_last.ipynb",
      "provenance": [],
      "collapsed_sections": []
    }
  },
  "cells": [
    {
      "cell_type": "code",
      "metadata": {
        "id": "m603szdy3ei0"
      },
      "source": [
        "from pathlib import Path\n",
        "import pandas as pd\n",
        "import numpy as np\n",
        "import gc\n",
        "from sklearn.preprocessing import LabelEncoder\n",
        "import pickle\n",
        "import bz2"
      ],
      "execution_count": 1,
      "outputs": []
    },
    {
      "cell_type": "markdown",
      "metadata": {
        "id": "X3qBwvG33ei2"
      },
      "source": [
        "Download https://drive.google.com/drive/folders/1BZFez3OFs7QMzeDUz-8E0SgnRy227pnG"
      ]
    },
    {
      "cell_type": "markdown",
      "metadata": {
        "id": "URfJhbed3ei3"
      },
      "source": [
        "Unzip"
      ]
    },
    {
      "cell_type": "code",
      "metadata": {
        "colab": {
          "base_uri": "https://localhost:8080/"
        },
        "id": "YTokbt0I49T-",
        "outputId": "d0129e78-f139-40d0-8b52-4238d1588fcb"
      },
      "source": [
        "!gdown --id 1YeMbHLs3QcJurmbdpmtxGyFTQw0vDxST"
      ],
      "execution_count": 2,
      "outputs": [
        {
          "output_type": "stream",
          "text": [
            "Downloading...\n",
            "From: https://drive.google.com/uc?id=1YeMbHLs3QcJurmbdpmtxGyFTQw0vDxST\n",
            "To: /content/inno_stats.tar.gz\n",
            "1.91GB [00:19, 99.8MB/s]\n"
          ],
          "name": "stdout"
        }
      ]
    },
    {
      "cell_type": "code",
      "metadata": {
        "colab": {
          "base_uri": "https://localhost:8080/"
        },
        "id": "SimRc_1j5dOc",
        "outputId": "36d52df7-33e2-44ab-eaef-a00092d682fa"
      },
      "source": [
        "!mkdir data\n",
        "!tar -xf inno_stats.tar.gz -C ./data"
      ],
      "execution_count": 5,
      "outputs": [
        {
          "output_type": "stream",
          "text": [
            "mkdir: cannot create directory ‘data’: File exists\n"
          ],
          "name": "stdout"
        }
      ]
    },
    {
      "cell_type": "code",
      "metadata": {
        "id": "msqq8jIw74_Q"
      },
      "source": [
        "sheet_id = \"1SIf2vawr2VWwme_6v_VZyHivJ502bWFN70SQLf-iBkM\"\n",
        "sheet_name = \"bad_ids.csv\"\n",
        "url = f\"https://docs.google.com/spreadsheets/d/{sheet_id}/gviz/tq?tqx=out:csv&sheet={sheet_name}\"\n",
        "\n",
        "bad_ids = pd.read_csv(url)"
      ],
      "execution_count": 2,
      "outputs": []
    },
    {
      "cell_type": "code",
      "metadata": {
        "colab": {
          "base_uri": "https://localhost:8080/",
          "height": 204
        },
        "id": "U2zniuot9ljm",
        "outputId": "e85d307d-6c58-44dd-e480-ce8ca76ae646"
      },
      "source": [
        "bad_ids.head()"
      ],
      "execution_count": 3,
      "outputs": [
        {
          "output_type": "execute_result",
          "data": {
            "text/html": [
              "<div>\n",
              "<style scoped>\n",
              "    .dataframe tbody tr th:only-of-type {\n",
              "        vertical-align: middle;\n",
              "    }\n",
              "\n",
              "    .dataframe tbody tr th {\n",
              "        vertical-align: top;\n",
              "    }\n",
              "\n",
              "    .dataframe thead th {\n",
              "        text-align: right;\n",
              "    }\n",
              "</style>\n",
              "<table border=\"1\" class=\"dataframe\">\n",
              "  <thead>\n",
              "    <tr style=\"text-align: right;\">\n",
              "      <th></th>\n",
              "      <th>Unnamed: 0</th>\n",
              "      <th>id_card</th>\n",
              "    </tr>\n",
              "  </thead>\n",
              "  <tbody>\n",
              "    <tr>\n",
              "      <th>0</th>\n",
              "      <td>0</td>\n",
              "      <td>806096</td>\n",
              "    </tr>\n",
              "    <tr>\n",
              "      <th>1</th>\n",
              "      <td>1</td>\n",
              "      <td>1438102</td>\n",
              "    </tr>\n",
              "    <tr>\n",
              "      <th>2</th>\n",
              "      <td>2</td>\n",
              "      <td>72344</td>\n",
              "    </tr>\n",
              "    <tr>\n",
              "      <th>3</th>\n",
              "      <td>3</td>\n",
              "      <td>427981</td>\n",
              "    </tr>\n",
              "    <tr>\n",
              "      <th>4</th>\n",
              "      <td>4</td>\n",
              "      <td>1528414</td>\n",
              "    </tr>\n",
              "  </tbody>\n",
              "</table>\n",
              "</div>"
            ],
            "text/plain": [
              "   Unnamed: 0  id_card\n",
              "0           0   806096\n",
              "1           1  1438102\n",
              "2           2    72344\n",
              "3           3   427981\n",
              "4           4  1528414"
            ]
          },
          "metadata": {
            "tags": []
          },
          "execution_count": 3
        }
      ]
    },
    {
      "cell_type": "code",
      "metadata": {
        "colab": {
          "base_uri": "https://localhost:8080/"
        },
        "id": "L3ft7NH63ei3",
        "outputId": "101a673c-b6c0-4aa9-bfca-c19f765504b7"
      },
      "source": [
        "data_path = Path('./data/').resolve()\n",
        "!ls {data_path}"
      ],
      "execution_count": 4,
      "outputs": [
        {
          "output_type": "stream",
          "text": [
            "09_groups.csv  10_groups.csv  11_groups.csv  product_groups.csv\n"
          ],
          "name": "stdout"
        }
      ]
    },
    {
      "cell_type": "code",
      "metadata": {
        "colab": {
          "base_uri": "https://localhost:8080/",
          "height": 204
        },
        "id": "azJ-dQR73ei4",
        "outputId": "8fdf7775-0198-4eb0-aca5-3de66dd5cd72"
      },
      "source": [
        "g_9 = pd.read_csv('./data/09_groups.csv')\n",
        "g_9.head()"
      ],
      "execution_count": 5,
      "outputs": [
        {
          "output_type": "execute_result",
          "data": {
            "text/html": [
              "<div>\n",
              "<style scoped>\n",
              "    .dataframe tbody tr th:only-of-type {\n",
              "        vertical-align: middle;\n",
              "    }\n",
              "\n",
              "    .dataframe tbody tr th {\n",
              "        vertical-align: top;\n",
              "    }\n",
              "\n",
              "    .dataframe thead th {\n",
              "        text-align: right;\n",
              "    }\n",
              "</style>\n",
              "<table border=\"1\" class=\"dataframe\">\n",
              "  <thead>\n",
              "    <tr style=\"text-align: right;\">\n",
              "      <th></th>\n",
              "      <th>date</th>\n",
              "      <th>id_doc</th>\n",
              "      <th>id_order</th>\n",
              "      <th>id_card</th>\n",
              "      <th>id_tov</th>\n",
              "      <th>id_kontr</th>\n",
              "      <th>quantity</th>\n",
              "      <th>sum</th>\n",
              "      <th>is_green</th>\n",
              "      <th>id_group</th>\n",
              "    </tr>\n",
              "  </thead>\n",
              "  <tbody>\n",
              "    <tr>\n",
              "      <th>0</th>\n",
              "      <td>2020-09-01 17:01:25</td>\n",
              "      <td>1283228</td>\n",
              "      <td>0.0</td>\n",
              "      <td>1538855</td>\n",
              "      <td>52</td>\n",
              "      <td>271</td>\n",
              "      <td>1.0</td>\n",
              "      <td>108.00</td>\n",
              "      <td>0</td>\n",
              "      <td>10004</td>\n",
              "    </tr>\n",
              "    <tr>\n",
              "      <th>1</th>\n",
              "      <td>2020-09-01 17:35:36</td>\n",
              "      <td>8873113</td>\n",
              "      <td>0.0</td>\n",
              "      <td>267307</td>\n",
              "      <td>52</td>\n",
              "      <td>271</td>\n",
              "      <td>1.0</td>\n",
              "      <td>108.00</td>\n",
              "      <td>0</td>\n",
              "      <td>10004</td>\n",
              "    </tr>\n",
              "    <tr>\n",
              "      <th>2</th>\n",
              "      <td>2020-09-01 19:19:21</td>\n",
              "      <td>12712899</td>\n",
              "      <td>0.0</td>\n",
              "      <td>610220</td>\n",
              "      <td>52</td>\n",
              "      <td>271</td>\n",
              "      <td>1.0</td>\n",
              "      <td>107.95</td>\n",
              "      <td>0</td>\n",
              "      <td>10004</td>\n",
              "    </tr>\n",
              "    <tr>\n",
              "      <th>3</th>\n",
              "      <td>2020-09-01 21:53:34</td>\n",
              "      <td>21535283</td>\n",
              "      <td>0.0</td>\n",
              "      <td>441497</td>\n",
              "      <td>52</td>\n",
              "      <td>271</td>\n",
              "      <td>1.0</td>\n",
              "      <td>108.00</td>\n",
              "      <td>0</td>\n",
              "      <td>10004</td>\n",
              "    </tr>\n",
              "    <tr>\n",
              "      <th>4</th>\n",
              "      <td>2020-09-01 18:42:31</td>\n",
              "      <td>642341</td>\n",
              "      <td>0.0</td>\n",
              "      <td>1065358</td>\n",
              "      <td>61</td>\n",
              "      <td>97</td>\n",
              "      <td>2.0</td>\n",
              "      <td>88.00</td>\n",
              "      <td>0</td>\n",
              "      <td>10091</td>\n",
              "    </tr>\n",
              "  </tbody>\n",
              "</table>\n",
              "</div>"
            ],
            "text/plain": [
              "                  date    id_doc  id_order  ...     sum  is_green  id_group\n",
              "0  2020-09-01 17:01:25   1283228       0.0  ...  108.00         0     10004\n",
              "1  2020-09-01 17:35:36   8873113       0.0  ...  108.00         0     10004\n",
              "2  2020-09-01 19:19:21  12712899       0.0  ...  107.95         0     10004\n",
              "3  2020-09-01 21:53:34  21535283       0.0  ...  108.00         0     10004\n",
              "4  2020-09-01 18:42:31    642341       0.0  ...   88.00         0     10091\n",
              "\n",
              "[5 rows x 10 columns]"
            ]
          },
          "metadata": {
            "tags": []
          },
          "execution_count": 5
        }
      ]
    },
    {
      "cell_type": "code",
      "metadata": {
        "colab": {
          "base_uri": "https://localhost:8080/",
          "height": 204
        },
        "id": "IO3EmGoA3ei6",
        "outputId": "f8843bf5-48df-4e54-f291-46397e8b10b1"
      },
      "source": [
        "p_g = pd.read_csv('./data/product_groups.csv', delimiter=';', encoding='windows-1251')\n",
        "p_g.head()"
      ],
      "execution_count": 6,
      "outputs": [
        {
          "output_type": "execute_result",
          "data": {
            "text/html": [
              "<div>\n",
              "<style scoped>\n",
              "    .dataframe tbody tr th:only-of-type {\n",
              "        vertical-align: middle;\n",
              "    }\n",
              "\n",
              "    .dataframe tbody tr th {\n",
              "        vertical-align: top;\n",
              "    }\n",
              "\n",
              "    .dataframe thead th {\n",
              "        text-align: right;\n",
              "    }\n",
              "</style>\n",
              "<table border=\"1\" class=\"dataframe\">\n",
              "  <thead>\n",
              "    <tr style=\"text-align: right;\">\n",
              "      <th></th>\n",
              "      <th>id_tov</th>\n",
              "      <th>id_group</th>\n",
              "      <th>name_group</th>\n",
              "    </tr>\n",
              "  </thead>\n",
              "  <tbody>\n",
              "    <tr>\n",
              "      <th>0</th>\n",
              "      <td>52</td>\n",
              "      <td>10004</td>\n",
              "      <td>Кисломолочные продукты</td>\n",
              "    </tr>\n",
              "    <tr>\n",
              "      <th>1</th>\n",
              "      <td>75</td>\n",
              "      <td>10004</td>\n",
              "      <td>Кисломолочные продукты</td>\n",
              "    </tr>\n",
              "    <tr>\n",
              "      <th>2</th>\n",
              "      <td>77</td>\n",
              "      <td>10004</td>\n",
              "      <td>Кисломолочные продукты</td>\n",
              "    </tr>\n",
              "    <tr>\n",
              "      <th>3</th>\n",
              "      <td>143</td>\n",
              "      <td>10004</td>\n",
              "      <td>Кисломолочные продукты</td>\n",
              "    </tr>\n",
              "    <tr>\n",
              "      <th>4</th>\n",
              "      <td>151</td>\n",
              "      <td>10004</td>\n",
              "      <td>Кисломолочные продукты</td>\n",
              "    </tr>\n",
              "  </tbody>\n",
              "</table>\n",
              "</div>"
            ],
            "text/plain": [
              "   id_tov  id_group              name_group\n",
              "0      52     10004  Кисломолочные продукты\n",
              "1      75     10004  Кисломолочные продукты\n",
              "2      77     10004  Кисломолочные продукты\n",
              "3     143     10004  Кисломолочные продукты\n",
              "4     151     10004  Кисломолочные продукты"
            ]
          },
          "metadata": {
            "tags": []
          },
          "execution_count": 6
        }
      ]
    },
    {
      "cell_type": "markdown",
      "metadata": {
        "id": "XwlLTXw37ROt"
      },
      "source": [
        "## Preprocessing"
      ]
    },
    {
      "cell_type": "code",
      "metadata": {
        "id": "u7rjUat-IF2h"
      },
      "source": [
        "bad_ids_set = set(bad_ids['id_card'])\n",
        "df = g_9[~g_9['id_card'].isin(bad_ids_set)]"
      ],
      "execution_count": 7,
      "outputs": []
    },
    {
      "cell_type": "markdown",
      "metadata": {
        "id": "4kyjECny3ei6"
      },
      "source": [
        "## Task 1\n",
        "\n",
        "Prove that buying discounted products depends on the average order sum. (It is more probable that the discounted product will be bought if bunch of money is going to be spend)"
      ]
    },
    {
      "cell_type": "markdown",
      "metadata": {
        "id": "e1jwtXupLlfP"
      },
      "source": [
        "H0 - there is no dependency"
      ]
    },
    {
      "cell_type": "code",
      "metadata": {
        "id": "marAf1ZB3ei7"
      },
      "source": [
        "total = df[['sum', 'id_doc']].groupby(\"id_doc\").sum()['sum'].to_list()\n",
        "\n",
        "total_discounts = df[['id_doc', 'is_green']].groupby(\"id_doc\")['is_green'].sum().to_list()\n",
        "order_n = df[['sum', 'id_doc']].groupby(\"id_doc\").count()['sum'].to_list()\n",
        "\n",
        "discount_percent = np.array(total_discounts)/np.array(order_n)"
      ],
      "execution_count": 8,
      "outputs": []
    },
    {
      "cell_type": "code",
      "metadata": {
        "colab": {
          "base_uri": "https://localhost:8080/"
        },
        "id": "M455slFCMGeN",
        "outputId": "bd0b9fd3-e97a-4c7e-fb2e-bbcfb64d10f3"
      },
      "source": [
        "from scipy.stats import ttest_ind\n",
        "\n",
        "test1 = ttest_ind(total, discount_percent)\n",
        "test1"
      ],
      "execution_count": 9,
      "outputs": [
        {
          "output_type": "execute_result",
          "data": {
            "text/plain": [
              "Ttest_indResult(statistic=2494.836117020941, pvalue=0.0)"
            ]
          },
          "metadata": {
            "tags": []
          },
          "execution_count": 9
        }
      ]
    },
    {
      "cell_type": "markdown",
      "metadata": {
        "id": "Y1D3rHySNU5d"
      },
      "source": [
        "P-value = 0, reject H0. There is a dependency. Proved"
      ]
    },
    {
      "cell_type": "markdown",
      "metadata": {
        "id": "H36804II3ei7"
      },
      "source": [
        "## Task 2\n",
        "Prove that the frequency of shopping grows around the wage taking days."
      ]
    },
    {
      "cell_type": "code",
      "metadata": {
        "colab": {
          "base_uri": "https://localhost:8080/",
          "height": 508
        },
        "id": "kV5WeNkc3ei7",
        "outputId": "41a59557-8428-4eba-a4a6-84c4567b909f"
      },
      "source": [
        "import matplotlib.pyplot as plt\n",
        "\n",
        "df.index = pd.to_datetime(df['date'], format='%Y-%m-%d %H:%M:%S')\n",
        "number_of_purchases = df.groupby(df.index.day)['id_order'].count()\n",
        "\n",
        "plt.figure(figsize=(16, 8))\n",
        "plt.locator_params(axis=\"x\", nbins=20)\n",
        "number_of_purchases.plot()\n",
        "plt.grid()"
      ],
      "execution_count": 10,
      "outputs": [
        {
          "output_type": "display_data",
          "data": {
            "image/png": "[encoded data removed]",
            "text/plain": [
              "<Figure size 1152x576 with 1 Axes>"
            ]
          },
          "metadata": {
            "tags": [],
            "needs_background": "light"
          }
        }
      ]
    },
    {
      "cell_type": "markdown",
      "metadata": {
        "id": "2wdG-rjVPJ6j"
      },
      "source": [
        "We can see the growth of number of purchases starting from the 5th of the month, and starting from the 20th. Proved"
      ]
    },
    {
      "cell_type": "markdown",
      "metadata": {
        "id": "XxyZ4L4z3ei7"
      },
      "source": [
        "## Task 3\n",
        "Define such cohort existance:\n",
        "1. Frequent buyers - The users that are shopping frequently(daily, weekly, monthly) \n",
        "2. Average purchase sum - The customers that usually spend the same amount of money \n",
        "3. Orders amount - The customers grouped by the total numer of orders \n",
        "4. Usual cart - The customers grouped by the product groups\n",
        "\n",
        "References\n",
        "- https://towardsdatascience.com/a-step-by-step-introduction-to-cohort-analysis-in-python-a2cbbd8460ea"
      ]
    },
    {
      "cell_type": "markdown",
      "metadata": {
        "id": "x82prG2UP0OQ"
      },
      "source": [
        "Frequent buyers"
      ]
    },
    {
      "cell_type": "code",
      "metadata": {
        "colab": {
          "base_uri": "https://localhost:8080/",
          "height": 450
        },
        "id": "NPbUMixj3ei8",
        "outputId": "5cab4598-852d-4996-d29c-ee2ec3f64fb8"
      },
      "source": [
        "frequent_buyers = df.groupby(by=['id_doc'])\n",
        "frequent_buyers.head()"
      ],
      "execution_count": 12,
      "outputs": [
        {
          "output_type": "execute_result",
          "data": {
            "text/html": [
              "<div>\n",
              "<style scoped>\n",
              "    .dataframe tbody tr th:only-of-type {\n",
              "        vertical-align: middle;\n",
              "    }\n",
              "\n",
              "    .dataframe tbody tr th {\n",
              "        vertical-align: top;\n",
              "    }\n",
              "\n",
              "    .dataframe thead th {\n",
              "        text-align: right;\n",
              "    }\n",
              "</style>\n",
              "<table border=\"1\" class=\"dataframe\">\n",
              "  <thead>\n",
              "    <tr style=\"text-align: right;\">\n",
              "      <th></th>\n",
              "      <th>date</th>\n",
              "      <th>id_doc</th>\n",
              "      <th>id_order</th>\n",
              "      <th>id_card</th>\n",
              "      <th>id_tov</th>\n",
              "      <th>id_kontr</th>\n",
              "      <th>quantity</th>\n",
              "      <th>sum</th>\n",
              "      <th>is_green</th>\n",
              "      <th>id_group</th>\n",
              "    </tr>\n",
              "    <tr>\n",
              "      <th>date</th>\n",
              "      <th></th>\n",
              "      <th></th>\n",
              "      <th></th>\n",
              "      <th></th>\n",
              "      <th></th>\n",
              "      <th></th>\n",
              "      <th></th>\n",
              "      <th></th>\n",
              "      <th></th>\n",
              "      <th></th>\n",
              "    </tr>\n",
              "  </thead>\n",
              "  <tbody>\n",
              "    <tr>\n",
              "      <th>2020-09-01 17:01:25</th>\n",
              "      <td>2020-09-01 17:01:25</td>\n",
              "      <td>1283228</td>\n",
              "      <td>0.0</td>\n",
              "      <td>1538855</td>\n",
              "      <td>52</td>\n",
              "      <td>271</td>\n",
              "      <td>1.0</td>\n",
              "      <td>108.00</td>\n",
              "      <td>0</td>\n",
              "      <td>10004</td>\n",
              "    </tr>\n",
              "    <tr>\n",
              "      <th>2020-09-01 17:35:36</th>\n",
              "      <td>2020-09-01 17:35:36</td>\n",
              "      <td>8873113</td>\n",
              "      <td>0.0</td>\n",
              "      <td>267307</td>\n",
              "      <td>52</td>\n",
              "      <td>271</td>\n",
              "      <td>1.0</td>\n",
              "      <td>108.00</td>\n",
              "      <td>0</td>\n",
              "      <td>10004</td>\n",
              "    </tr>\n",
              "    <tr>\n",
              "      <th>2020-09-01 19:19:21</th>\n",
              "      <td>2020-09-01 19:19:21</td>\n",
              "      <td>12712899</td>\n",
              "      <td>0.0</td>\n",
              "      <td>610220</td>\n",
              "      <td>52</td>\n",
              "      <td>271</td>\n",
              "      <td>1.0</td>\n",
              "      <td>107.95</td>\n",
              "      <td>0</td>\n",
              "      <td>10004</td>\n",
              "    </tr>\n",
              "    <tr>\n",
              "      <th>2020-09-01 21:53:34</th>\n",
              "      <td>2020-09-01 21:53:34</td>\n",
              "      <td>21535283</td>\n",
              "      <td>0.0</td>\n",
              "      <td>441497</td>\n",
              "      <td>52</td>\n",
              "      <td>271</td>\n",
              "      <td>1.0</td>\n",
              "      <td>108.00</td>\n",
              "      <td>0</td>\n",
              "      <td>10004</td>\n",
              "    </tr>\n",
              "    <tr>\n",
              "      <th>2020-09-01 18:42:31</th>\n",
              "      <td>2020-09-01 18:42:31</td>\n",
              "      <td>642341</td>\n",
              "      <td>0.0</td>\n",
              "      <td>1065358</td>\n",
              "      <td>61</td>\n",
              "      <td>97</td>\n",
              "      <td>2.0</td>\n",
              "      <td>88.00</td>\n",
              "      <td>0</td>\n",
              "      <td>10091</td>\n",
              "    </tr>\n",
              "    <tr>\n",
              "      <th>...</th>\n",
              "      <td>...</td>\n",
              "      <td>...</td>\n",
              "      <td>...</td>\n",
              "      <td>...</td>\n",
              "      <td>...</td>\n",
              "      <td>...</td>\n",
              "      <td>...</td>\n",
              "      <td>...</td>\n",
              "      <td>...</td>\n",
              "      <td>...</td>\n",
              "    </tr>\n",
              "    <tr>\n",
              "      <th>2020-09-30 11:26:28</th>\n",
              "      <td>2020-09-30 11:26:28</td>\n",
              "      <td>4850561</td>\n",
              "      <td>0.0</td>\n",
              "      <td>1739990</td>\n",
              "      <td>25292</td>\n",
              "      <td>17528</td>\n",
              "      <td>1.0</td>\n",
              "      <td>130.00</td>\n",
              "      <td>0</td>\n",
              "      <td>10099</td>\n",
              "    </tr>\n",
              "    <tr>\n",
              "      <th>2020-09-30 08:12:39</th>\n",
              "      <td>2020-09-30 08:12:39</td>\n",
              "      <td>10015419</td>\n",
              "      <td>0.0</td>\n",
              "      <td>1761351</td>\n",
              "      <td>30740</td>\n",
              "      <td>19188</td>\n",
              "      <td>2.0</td>\n",
              "      <td>120.00</td>\n",
              "      <td>0</td>\n",
              "      <td>10008</td>\n",
              "    </tr>\n",
              "    <tr>\n",
              "      <th>2020-09-30 09:54:24</th>\n",
              "      <td>2020-09-30 09:54:24</td>\n",
              "      <td>22816791</td>\n",
              "      <td>0.0</td>\n",
              "      <td>1432778</td>\n",
              "      <td>30741</td>\n",
              "      <td>19188</td>\n",
              "      <td>1.0</td>\n",
              "      <td>73.00</td>\n",
              "      <td>0</td>\n",
              "      <td>10254</td>\n",
              "    </tr>\n",
              "    <tr>\n",
              "      <th>2020-09-30 12:00:04</th>\n",
              "      <td>2020-09-30 12:00:04</td>\n",
              "      <td>1648929</td>\n",
              "      <td>0.0</td>\n",
              "      <td>484390</td>\n",
              "      <td>34835</td>\n",
              "      <td>15916</td>\n",
              "      <td>1.0</td>\n",
              "      <td>78.00</td>\n",
              "      <td>0</td>\n",
              "      <td>10099</td>\n",
              "    </tr>\n",
              "    <tr>\n",
              "      <th>2020-09-30 09:37:16</th>\n",
              "      <td>2020-09-30 09:37:16</td>\n",
              "      <td>22302533</td>\n",
              "      <td>0.0</td>\n",
              "      <td>557627</td>\n",
              "      <td>34835</td>\n",
              "      <td>15916</td>\n",
              "      <td>1.0</td>\n",
              "      <td>78.00</td>\n",
              "      <td>0</td>\n",
              "      <td>10099</td>\n",
              "    </tr>\n",
              "  </tbody>\n",
              "</table>\n",
              "<p>24651152 rows × 10 columns</p>\n",
              "</div>"
            ],
            "text/plain": [
              "                                    date    id_doc  ...  is_green  id_group\n",
              "date                                                ...                    \n",
              "2020-09-01 17:01:25  2020-09-01 17:01:25   1283228  ...         0     10004\n",
              "2020-09-01 17:35:36  2020-09-01 17:35:36   8873113  ...         0     10004\n",
              "2020-09-01 19:19:21  2020-09-01 19:19:21  12712899  ...         0     10004\n",
              "2020-09-01 21:53:34  2020-09-01 21:53:34  21535283  ...         0     10004\n",
              "2020-09-01 18:42:31  2020-09-01 18:42:31    642341  ...         0     10091\n",
              "...                                  ...       ...  ...       ...       ...\n",
              "2020-09-30 11:26:28  2020-09-30 11:26:28   4850561  ...         0     10099\n",
              "2020-09-30 08:12:39  2020-09-30 08:12:39  10015419  ...         0     10008\n",
              "2020-09-30 09:54:24  2020-09-30 09:54:24  22816791  ...         0     10254\n",
              "2020-09-30 12:00:04  2020-09-30 12:00:04   1648929  ...         0     10099\n",
              "2020-09-30 09:37:16  2020-09-30 09:37:16  22302533  ...         0     10099\n",
              "\n",
              "[24651152 rows x 10 columns]"
            ]
          },
          "metadata": {
            "tags": []
          },
          "execution_count": 12
        }
      ]
    },
    {
      "cell_type": "markdown",
      "metadata": {
        "id": "DJ8d6KtWR1wl"
      },
      "source": [
        "Average purchase sum\n",
        "\n",
        "Sorry, from now on by RAM is dead in Colab, so I have no ability to check the solution :("
      ]
    },
    {
      "cell_type": "code",
      "metadata": {
        "id": "yjb40s5nSNHD"
      },
      "source": [
        "grouped_df = df.groupby('id_card')['sum'].std()\n",
        "grouped_df = grouped_df[grouped_df < 500]\n",
        "\n",
        "plt.figure(figsize=(10, 5))\n",
        "plt.xlabel('Sum of standard deviations')\n",
        "plt.ylabel('Count')\n",
        "plt.hist(grouped_df, bins=20);"
      ],
      "execution_count": null,
      "outputs": []
    },
    {
      "cell_type": "markdown",
      "metadata": {
        "id": "GNmi-PIQS5M-"
      },
      "source": [
        "Orders amount"
      ]
    },
    {
      "cell_type": "code",
      "metadata": {
        "id": "cQa6-PGmS6ng"
      },
      "source": [
        "grouped_by_user = df.groupby('id_card')\n",
        "number_of_orders_per_user = grouped_by_user.agg({\"id_doc\": \"nunique\"})\n",
        "number_of_orders_per_user.head()\n",
        "grouped_by_number_of_orders = number_of_orders_per_user.groupby('id_doc')\n",
        "grouped_by_number_of_orders.groups"
      ],
      "execution_count": null,
      "outputs": []
    },
    {
      "cell_type": "markdown",
      "metadata": {
        "id": "_LdGOMC_TIrF"
      },
      "source": [
        "Usual cart"
      ]
    },
    {
      "cell_type": "code",
      "metadata": {
        "id": "4uHl17f5TKgb"
      },
      "source": [
        "group2num_customers = df.groupby('id_group')['id_card'].unique().apply(len)\n",
        "group2num_customers.sort_values().plot(kind='bar')\n",
        "plt.ylabel('Count');"
      ],
      "execution_count": null,
      "outputs": []
    }
  ]
}